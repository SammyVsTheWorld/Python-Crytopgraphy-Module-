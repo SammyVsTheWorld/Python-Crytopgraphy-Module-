{
 "cells": [
  {
   "cell_type": "code",
   "execution_count": 1,
   "id": "64476ee5-98d6-4a7a-9cd5-e960b24cda13",
   "metadata": {},
   "outputs": [
    {
     "name": "stdout",
     "output_type": "stream",
     "text": [
      "Requirement already satisfied: cryptography in /opt/conda/lib/python3.9/site-packages (36.0.2)\n",
      "Requirement already satisfied: cffi>=1.12 in /opt/conda/lib/python3.9/site-packages (from cryptography) (1.15.0)\n",
      "Requirement already satisfied: pycparser in /opt/conda/lib/python3.9/site-packages (from cffi>=1.12->cryptography) (2.21)\n",
      "Note: you may need to restart the kernel to use updated packages.\n"
     ]
    }
   ],
   "source": [
    "pip install cryptography #to install the module \n"
   ]
  },
  {
   "cell_type": "code",
   "execution_count": 14,
   "id": "bb7c453f-5b1c-451c-b2be-e1f45f563981",
   "metadata": {
    "tags": []
   },
   "outputs": [
    {
     "name": "stdout",
     "output_type": "stream",
     "text": [
      "b'gAAAAABjS1l4yq9DBt2XRLRWQ8El0-aJn_IixKbc5x0YQYZHSTv0BfDDeP22B7bh9rNoZfC2L6GkhKIclTupSRlGnpDZjluJY2yI6wYHQboOt54e8HtUM_o='\n"
     ]
    }
   ],
   "source": [
    "# How do we encrypt a message ?\n",
    "\n",
    "from cryptography.fernet import Fernet # Highest Level symmetric encryption that cryptography has\n",
    "\n",
    "key = Fernet.generate_key() # This is the single key that symmetric uses to encrypt and decrypt the text\n",
    "f = Fernet (key) # this will be the cipher suite\n",
    "\n",
    "cipher_text = f.encrypt(b\"The Nuclear Code is: 16*29\") #within the () the text that you want to encrypt will go. \n",
    "# the b in the () is needed to make the data into bytes. \n",
    "\n",
    "print (cipher_text)  #this will produce the cipher that is produce when the plaintext is encrypted \n",
    "\n"
   ]
  },
  {
   "cell_type": "code",
   "execution_count": null,
   "id": "b44557db-a4b5-46ee-89a5-469843408830",
   "metadata": {},
   "outputs": [],
   "source": []
  },
  {
   "cell_type": "code",
   "execution_count": 15,
   "id": "9dca6c51-9cb6-4bf4-8757-01ec0c0e732d",
   "metadata": {},
   "outputs": [
    {
     "name": "stdout",
     "output_type": "stream",
     "text": [
      "b'The Nuclear Code is: 16*29'\n"
     ]
    }
   ],
   "source": [
    "# How do we decrypt the cipher text( or the message)? \n",
    "# same steps as before \n",
    "from cryptography.fernet import Fernet # Highest Level symmetric encryption that cryptography has\n",
    "\n",
    "key = Fernet.generate_key() # This is the single key that symmetric uses to encrypt and decrypt the text\n",
    "f = Fernet (key) # this will be the cipher suite\n",
    "\n",
    "cipher_text = f.encrypt(b\"The Nuclear Code is: 16*29\") #within the () the text that you want to encrypt will go. \n",
    "# the b in the () is needed to make the data into bytes. \n",
    "\n",
    "print (cipher_text)  #this will produce the cipher that is produce when the plaintext is encrypted\n",
    "\n",
    "\n",
    "# Here you will decrypt the cipher text \n",
    "# one thing to remember is the name of the object that has the cipher text assigned to it\n",
    "\n",
    "plaintext = f.decrypt(cipher_text) # inside the () is name of object that was encypted \n",
    "print(plaintext) # Will show the decryptd message \n"
   ]
  },
  {
   "cell_type": "code",
   "execution_count": 25,
   "id": "ed47971d-4cf0-44d2-8317-c02f91bc7b9f",
   "metadata": {},
   "outputs": [
    {
     "name": "stdout",
     "output_type": "stream",
     "text": [
      "The CipherText is: b'gAAAAABjS11wBkgiDlhz1omTWEyzO0PsSCOk9kLczNDVjhlgVfb5LnUyoFEiXK8x2AmIObgNhi-jdNTCgyEYShmI-SnA4uJbbw=='\n",
      "The secret album name is: b'Pink Tape'\n"
     ]
    }
   ],
   "source": [
    "# Another example \n",
    "from cryptography.fernet import Fernet \n",
    "\n",
    "\n",
    "key = Fernet.generate_key() \n",
    "f = Fernet (key) \n",
    "\n",
    "SecretAlbum_Name = f.encrypt(b\"Pink Tape\") \n",
    "print(\"The CipherText is:\",SecretAlbum_Name)\n",
    "\n",
    "\n",
    "Album_Name = f.decrypt(SecretAlbum_Name)\n",
    "print (\"The secret album name is:\",Album_Name) \n"
   ]
  },
  {
   "cell_type": "code",
   "execution_count": null,
   "id": "533154d1-e7b0-42fe-8a47-91e74778b1a1",
   "metadata": {},
   "outputs": [],
   "source": []
  }
 ],
 "metadata": {
  "kernelspec": {
   "display_name": "Python 3 (ipykernel)",
   "language": "python",
   "name": "python3"
  },
  "language_info": {
   "codemirror_mode": {
    "name": "ipython",
    "version": 3
   },
   "file_extension": ".py",
   "mimetype": "text/x-python",
   "name": "python",
   "nbconvert_exporter": "python",
   "pygments_lexer": "ipython3",
   "version": "3.9.10"
  }
 },
 "nbformat": 4,
 "nbformat_minor": 5
}
